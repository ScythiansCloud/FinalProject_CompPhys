{
 "cells": [
  {
   "cell_type": "code",
   "execution_count": 13,
   "id": "310936a0",
   "metadata": {},
   "outputs": [
    {
     "name": "stdout",
     "output_type": "stream",
     "text": [
      "numba already installed\n",
      "numpy already installed\n",
      "matplotlib already installed\n",
      "tqdm already installed\n"
     ]
    }
   ],
   "source": [
    "# ── 0_install_deps.ipynb ──\n",
    "import importlib, subprocess, sys\n",
    "# List your packages (matplotlib covers matplotlib.pyplot)\n",
    "dependencies = [\"numba\", \"numpy\", \"matplotlib\", \"tqdm\"]\n",
    "\n",
    "for pkg in dependencies:\n",
    "    if importlib.util.find_spec(pkg) is None: # type: ignore\n",
    "        print(f\"Installing {pkg}…\")\n",
    "        subprocess.check_call([sys.executable, \"-m\", \"pip\", \"install\", pkg])\n",
    "    else:\n",
    "        # optional: uncomment next line to see which ones were already present\n",
    "        print(f\"{pkg} already installed\")\n",
    "        pass"
   ]
  },
  {
   "cell_type": "code",
   "execution_count": 3,
   "id": "3033e04c",
   "metadata": {},
   "outputs": [],
   "source": [
    "import numpy as np\n",
    "import os\n",
    "import utilities.update\n",
    "from utilities.simulation import Simulation2, Simulation3\n",
    "import settings.settings_task2 as settings\n",
    "import settings.settings_task3 as settings3\n",
    "# import pandas as pd\n",
    "import matplotlib.pyplot as plt\n",
    "import logging\n",
    "from utilities import utils\n",
    "\n",
    "settings.init(10)"
   ]
  },
  {
   "cell_type": "markdown",
   "id": "b14612f8",
   "metadata": {},
   "source": [
    "# Initializing the system"
   ]
  },
  {
   "cell_type": "code",
   "execution_count": null,
   "id": "cedfd4f1",
   "metadata": {},
   "outputs": [],
   "source": []
  },
  {
   "cell_type": "markdown",
   "id": "ed65f548",
   "metadata": {},
   "source": [
    "# Task 2"
   ]
  },
  {
   "cell_type": "code",
   "execution_count": 15,
   "id": "2e405f70",
   "metadata": {},
   "outputs": [],
   "source": [
    "# Set up output folder creation and logging\n",
    "# output_dir = utils.create_output_directory()\n",
    "# utils.setup_logging(output_dir)\n",
    "\n",
    "# import task2\n",
    "# task2.main()"
   ]
  },
  {
   "cell_type": "code",
   "execution_count": 16,
   "id": "8a50fcc4",
   "metadata": {},
   "outputs": [],
   "source": [
    "# data = np.loadtxt('output/run_3/Task2unwrapped10_nsteps_20000')\n",
    "                            # (f,)\n",
    "\n",
    "# blk = 256\n",
    "# x  = data[:, 1          : 1 + blk]\n",
    "# y  = data[:, 1 + blk    : 1 + 2*blk]\n",
    "# z  = data[:, 1 + 2*blk  : 1 + 3*blk]\n",
    "# vx = data[:, 1 + 3*blk  : 1 + 4*blk]\n",
    "# vy = data[:, 1 + 4*blk  : 1 + 5*blk]\n",
    "# vz = data[:, 1 + 5*blk  : 1 + 6*blk]"
   ]
  },
  {
   "cell_type": "code",
   "execution_count": 17,
   "id": "ba9c4152",
   "metadata": {},
   "outputs": [],
   "source": [
    "# np.shape(data)\n",
    "# blk = 256\n",
    "# x  = data[:, 1          : 1 + blk]\n",
    "# y  = data[:, 1 + blk    : 1 + 2*blk]\n",
    "# z  = data[:, 1 + 2*blk  : 1 + 3*blk]\n",
    "# vx = data[:, 1 + 3*blk  : 1 + 4*blk]\n",
    "# vy = data[:, 1 + 4*blk  : 1 + 5*blk]\n",
    "# vz = data[:, 1 + 5*blk  : 1 + 6*blk]"
   ]
  },
  {
   "cell_type": "markdown",
   "id": "61669811",
   "metadata": {},
   "source": [
    "## Task 3"
   ]
  },
  {
   "cell_type": "code",
   "execution_count": null,
   "id": "2f27d91c",
   "metadata": {},
   "outputs": [
    {
     "name": "stderr",
     "output_type": "stream",
     "text": [
      "17:19:04  [INFO]  Output directory: C:\\Users\\corne\\Desktop\\Uni\\aktuel\\CP\\FinalProject9\\FinalProject_CompPhys\\output\\run_4\n"
     ]
    },
    {
     "name": "stdout",
     "output_type": "stream",
     "text": [
      "[INFO] Writing all files to output\\run_4/\n"
     ]
    }
   ],
   "source": [
    "import task3_and_4\n",
    "task3_and_4.main()"
   ]
  },
  {
   "cell_type": "code",
   "execution_count": null,
   "id": "faad6b7c",
   "metadata": {},
   "outputs": [],
   "source": []
  },
  {
   "cell_type": "markdown",
   "id": "44ee7d97",
   "metadata": {},
   "source": [
    "# Task 4 \n",
    "(hat Arvid angefangen, funktioniert auch schon, aber ist noch nicht validiert)\n",
    "Ihr könnt gerne Task 4 umschreiben / neu schreiben nach belieben"
   ]
  },
  {
   "cell_type": "code",
   "execution_count": null,
   "id": "e4ca2b0a",
   "metadata": {},
   "outputs": [],
   "source": [
    "# import task4\n",
    "# task4.main()"
   ]
  },
  {
   "cell_type": "code",
   "execution_count": null,
   "id": "8e257506",
   "metadata": {},
   "outputs": [],
   "source": [
    "from scipy.stats import linregress\n",
    "\n",
    "x = [0, 1, 2, 3]\n",
    "y = [0, 2, 4, 6]\n",
    "\n",
    "slope, intercept, _, _, _ = linregress(x, y)\n",
    "print(type(slope))\n",
    "print(slope)  # Output: 2.0"
   ]
  },
  {
   "cell_type": "code",
   "execution_count": 9,
   "id": "3257e827",
   "metadata": {},
   "outputs": [
    {
     "name": "stdout",
     "output_type": "stream",
     "text": [
      "sig + delta = 1.00, 0.01\n",
      "N, Zprimesqrd = 343.00, 3797.01\n",
      "lambda_B, kappa_D = 0.01, 1.59\n",
      "kBT, A = 1.00, 0.10\n",
      "sig + delta = 1.00, 0.01\n",
      "N, Zprimesqrd = 343.00, 30576.67\n",
      "lambda_B, kappa_D = 0.01, 5.01\n",
      "kBT, A = 1.00, 0.10\n"
     ]
    },
    {
     "data": {
      "image/png": "[encoded data removed]",
      "text/plain": [
       "<Figure size 800x500 with 1 Axes>"
      ]
     },
     "metadata": {},
     "output_type": "display_data"
    }
   ],
   "source": [
    "import numpy as np\n",
    "\n",
    "def DLVO_potential(r, L, N, sig, delta, A, m, Zprimesqrd, lambda_B, kappa_D, kbT):\n",
    "    \"\"\"\n",
    "    r: Array of distances r, for which the potential needs to be calculated\n",
    "    \"\"\"\n",
    "    # convert to np array if needed\n",
    "    r = np.asarray(r, dtype=float)\n",
    "    \n",
    "    # mask of where to use VDW+EL\n",
    "    mask = r > (sig + delta)\n",
    "    \n",
    "    # Pre‐allocate output\n",
    "    V = np.zeros(len(r))\n",
    "    \n",
    "    # Case 1: Van der Waals + Electrostatic\n",
    "    r1 = r[mask]\n",
    "    # print(mask)\n",
    "    VDW = A * sig / (24 * m * (r1 - sig))\n",
    "    EL  = -Zprimesqrd * lambda_B * np.exp(-kappa_D * r1) * (1/r1 + kappa_D) / (m * r1)\n",
    "    V[mask] = VDW + EL\n",
    "    \n",
    "    # Case 2: Lennard‐Jones‐type\n",
    "    r2 = r[~mask]\n",
    "    V[~mask] = -8 * kbT / m * (0.6 / r2**12 - 0.6 / r2**6)\n",
    "\n",
    "    return V\n",
    "\n",
    "settings3.init(10)\n",
    "\n",
    "\n",
    "r_array = np.linspace(1, 9.5, 1000)\n",
    "\n",
    "V_DLVO_Cs10 = DLVO_potential(r_array, settings3.L, settings3.N, settings3.sig, settings3.delta, settings3.A,\n",
    "    settings3.m, settings3.Zprimesqrd, settings3.lambda_B, settings3.kappa_D, settings3.kBT)\n",
    "print(f\"sig + delta = {settings3.sig:.2f}, {settings3.delta:.2f}\")\n",
    "print(f\"N, Zprimesqrd = {settings3.N:.2f}, {settings3.Zprimesqrd:.2f}\")\n",
    "print(f\"lambda_B, kappa_D = {settings3.lambda_B:.2f}, {settings3.kappa_D:.2f}\")\n",
    "print(f\"kBT, A = {settings3.kBT:.2f}, {settings3.A:.2f}\")\n",
    "\n",
    "settings3.init(100)\n",
    "V_DLVO_Cs100 = DLVO_potential(r_array, settings3.L, settings3.N, settings3.sig, settings3.delta, settings3.A,\n",
    "                              settings3.m, settings3.Zprimesqrd, settings3.lambda_B, settings3.kappa_D, settings3.kBT)\n",
    "\n",
    "print(f\"sig + delta = {settings3.sig:.2f}, {settings3.delta:.2f}\")\n",
    "print(f\"N, Zprimesqrd = {settings3.N:.2f}, {settings3.Zprimesqrd:.2f}\")\n",
    "print(f\"lambda_B, kappa_D = {settings3.lambda_B:.2f}, {settings3.kappa_D:.2f}\")\n",
    "print(f\"kBT, A = {settings3.kBT:.2f}, {settings3.A:.2f}\")\n",
    "\n",
    "\n",
    "\n",
    "plt.figure(figsize=(8,5))\n",
    "\n",
    "plt.plot(r_array, V_DLVO_Cs10, label=r\"$V_\\text{DLVO}$, Cs=10\")  \n",
    "\n",
    "plt.plot(r_array, V_DLVO_Cs100, label=r\"$V_\\text{DLVO}$, Cs=100\", linestyle='--')  \n",
    "# plt.yscale('log')\n",
    "plt.xlabel(\"r\")\n",
    "plt.ylabel(r\"Potential $V_\\text{DLVO}$\")\n",
    "# plt.xlim(1.5, settings3.L/2)\n",
    "# plt.ylim(, 0)\n",
    "plt.legend()\n",
    "# plt.ylim([-10,10])\n",
    "# plt.title(\"\")\n",
    "plt.tight_layout()\n"
   ]
  },
  {
   "cell_type": "code",
   "execution_count": null,
   "id": "9cf7076f",
   "metadata": {},
   "outputs": [],
   "source": []
  }
 ],
 "metadata": {
  "kernelspec": {
   "display_name": "base",
   "language": "python",
   "name": "python3"
  },
  "language_info": {
   "codemirror_mode": {
    "name": "ipython",
    "version": 3
   },
   "file_extension": ".py",
   "mimetype": "text/x-python",
   "name": "python",
   "nbconvert_exporter": "python",
   "pygments_lexer": "ipython3",
   "version": "3.12.4"
  }
 },
 "nbformat": 4,
 "nbformat_minor": 5
}
