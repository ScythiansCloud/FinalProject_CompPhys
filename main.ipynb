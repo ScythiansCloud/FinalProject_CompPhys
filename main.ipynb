{
 "cells": [
  {
   "cell_type": "code",
   "execution_count": 1,
   "id": "310936a0",
   "metadata": {},
   "outputs": [
    {
     "name": "stdout",
     "output_type": "stream",
     "text": [
      "numba already installed\n",
      "numpy already installed\n",
      "matplotlib already installed\n",
      "tqdm already installed\n"
     ]
    }
   ],
   "source": [
    "# ── 0_install_deps.ipynb ──\n",
    "import importlib, subprocess, sys\n",
    "# List your packages (matplotlib covers matplotlib.pyplot)\n",
    "dependencies = [\"numba\", \"numpy\", \"matplotlib\", \"tqdm\"]\n",
    "\n",
    "for pkg in dependencies:\n",
    "    if importlib.util.find_spec(pkg) is None:\n",
    "        print(f\"Installing {pkg}…\")\n",
    "        subprocess.check_call([sys.executable, \"-m\", \"pip\", \"install\", pkg])\n",
    "    else:\n",
    "        # optional: uncomment next line to see which ones were already present\n",
    "        print(f\"{pkg} already installed\")\n",
    "        pass"
   ]
  },
  {
   "cell_type": "code",
   "execution_count": 2,
   "id": "3033e04c",
   "metadata": {},
   "outputs": [],
   "source": [
    "import numpy as np\n",
    "import os\n",
    "import utilities.update\n",
    "from utilities.simulation import Simulation\n",
    "import settings.settings_task2 as settings\n",
    "# import pandas as pd\n",
    "import matplotlib.pyplot as plt\n",
    "import logging\n",
    "from utilities import utils"
   ]
  },
  {
   "cell_type": "markdown",
   "id": "b14612f8",
   "metadata": {},
   "source": [
    "# Initializing the system"
   ]
  },
  {
   "cell_type": "code",
   "execution_count": 3,
   "id": "cedfd4f1",
   "metadata": {},
   "outputs": [
    {
     "name": "stdout",
     "output_type": "stream",
     "text": [
      "[INFO] Writing all files to output\\run_15/\n"
     ]
    }
   ],
   "source": [
    "# Set up output folder creation and logging\n",
    "output_dir = utils.create_output_directory()\n",
    "utils.setup_logging(output_dir)"
   ]
  },
  {
   "cell_type": "markdown",
   "id": "2a0c015d",
   "metadata": {},
   "source": [
    "# Testing"
   ]
  },
  {
   "cell_type": "code",
   "execution_count": 4,
   "id": "b607cabb",
   "metadata": {},
   "outputs": [
    {
     "name": "stdout",
     "output_type": "stream",
     "text": [
      "vx, vy, vz = (1.385883251586119, -1.3374423421254928, -0.5243604163571383)\n"
     ]
    },
    {
     "ename": "TypeError",
     "evalue": "unsupported operand type(s) for +: 'WindowsPath' and 'str'",
     "output_type": "error",
     "traceback": [
      "\u001b[1;31m---------------------------------------------------------------------------\u001b[0m",
      "\u001b[1;31mTypeError\u001b[0m                                 Traceback (most recent call last)",
      "Cell \u001b[1;32mIn[4], line 2\u001b[0m\n\u001b[0;32m      1\u001b[0m settings\u001b[38;5;241m.\u001b[39minit(\u001b[38;5;241m0.05\u001b[39m)\n\u001b[1;32m----> 2\u001b[0m Simulation(output_dir, \u001b[38;5;28;01mTrue\u001b[39;00m, \u001b[38;5;124m\"\u001b[39m\u001b[38;5;124mTest_trajectory\u001b[39m\u001b[38;5;124m\"\u001b[39m, everyN\u001b[38;5;241m=\u001b[39m\u001b[38;5;241m10\u001b[39m)\n",
      "File \u001b[1;32mc:\\Users\\Avoe\\Documents\\GitHub\\FinalProject_CompPhys\\utilities\\simulation.py:29\u001b[0m, in \u001b[0;36mSimulation\u001b[1;34m(outdir, write, Traj_name, everyN)\u001b[0m\n\u001b[0;32m     26\u001b[0m \u001b[38;5;28mprint\u001b[39m(\u001b[38;5;124mf\u001b[39m\u001b[38;5;124m'\u001b[39m\u001b[38;5;124mvx, vy, vz = \u001b[39m\u001b[38;5;132;01m{\u001b[39;00mvx[\u001b[38;5;241m0\u001b[39m],\u001b[38;5;250m \u001b[39mvy[\u001b[38;5;241m0\u001b[39m],\u001b[38;5;250m \u001b[39mvz[\u001b[38;5;241m0\u001b[39m]\u001b[38;5;132;01m}\u001b[39;00m\u001b[38;5;124m'\u001b[39m)\n\u001b[0;32m     28\u001b[0m \u001b[38;5;28;01mif\u001b[39;00m write:\n\u001b[1;32m---> 29\u001b[0m     fileoutput_eq \u001b[38;5;241m=\u001b[39m \u001b[38;5;28mopen\u001b[39m(outdir \u001b[38;5;241m/\u001b[39m Traj_name \u001b[38;5;241m+\u001b[39m \u001b[38;5;28mstr\u001b[39m(everyN) \u001b[38;5;241m+\u001b[39m \u001b[38;5;124m'\u001b[39m\u001b[38;5;124m_nsteps_\u001b[39m\u001b[38;5;124m'\u001b[39m \u001b[38;5;241m+\u001b[39m \u001b[38;5;28mstr\u001b[39m(settings\u001b[38;5;241m.\u001b[39mnsteps), \u001b[38;5;124m\"\u001b[39m\u001b[38;5;124mw\u001b[39m\u001b[38;5;124m\"\u001b[39m)\n\u001b[0;32m     30\u001b[0m     \u001b[38;5;66;03m# fileoutput_prod = open(Traj_name + str(everyN) + '_prod', \"w\")\u001b[39;00m\n\u001b[0;32m     31\u001b[0m     output\u001b[38;5;241m.\u001b[39mWriteTrajectory3d(fileoutput_eq, \u001b[38;5;241m0\u001b[39m,x,y,z, settings) \n",
      "\u001b[1;31mTypeError\u001b[0m: unsupported operand type(s) for +: 'WindowsPath' and 'str'"
     ]
    }
   ],
   "source": [
    "settings.init(0.05)\n",
    "Simulation(output_dir, True, \"Test_trajectory\", everyN=10)"
   ]
  }
 ],
 "metadata": {
  "kernelspec": {
   "display_name": "base",
   "language": "python",
   "name": "python3"
  },
  "language_info": {
   "codemirror_mode": {
    "name": "ipython",
    "version": 3
   },
   "file_extension": ".py",
   "mimetype": "text/x-python",
   "name": "python",
   "nbconvert_exporter": "python",
   "pygments_lexer": "ipython3",
   "version": "3.12.7"
  }
 },
 "nbformat": 4,
 "nbformat_minor": 5
}
