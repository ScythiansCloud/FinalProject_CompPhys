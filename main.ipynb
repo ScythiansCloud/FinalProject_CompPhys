{
 "cells": [
  {
   "cell_type": "code",
   "execution_count": 1,
   "id": "310936a0",
   "metadata": {},
   "outputs": [
    {
     "name": "stdout",
     "output_type": "stream",
     "text": [
      "numba already installed\n",
      "numpy already installed\n",
      "matplotlib already installed\n",
      "tqdm already installed\n"
     ]
    }
   ],
   "source": [
    "# ── 0_install_deps.ipynb ──\n",
    "import importlib, subprocess, sys\n",
    "# List your packages (matplotlib covers matplotlib.pyplot)\n",
    "dependencies = [\"numba\", \"numpy\", \"matplotlib\", \"tqdm\"]\n",
    "\n",
    "for pkg in dependencies:\n",
    "    if importlib.util.find_spec(pkg) is None:\n",
    "        print(f\"Installing {pkg}…\")\n",
    "        subprocess.check_call([sys.executable, \"-m\", \"pip\", \"install\", pkg])\n",
    "    else:\n",
    "        # optional: uncomment next line to see which ones were already present\n",
    "        print(f\"{pkg} already installed\")\n",
    "        pass"
   ]
  },
  {
   "cell_type": "code",
   "execution_count": 1,
   "id": "3033e04c",
   "metadata": {},
   "outputs": [],
   "source": [
    "import numpy as np\n",
    "import os\n",
    "import utilities.update\n",
    "from utilities.simulation import Simulation, Simulation2, Simulation3\n",
    "import settings.settings_task2 as settings\n",
    "import settings.settings_task3 as settings3\n",
    "# import pandas as pd\n",
    "import matplotlib.pyplot as plt\n",
    "import logging\n",
    "from utilities import utils\n",
    "\n",
    "settings.init(10)\n",
    "settings3.init(10)"
   ]
  },
  {
   "cell_type": "markdown",
   "id": "b14612f8",
   "metadata": {},
   "source": [
    "# Initializing the system"
   ]
  },
  {
   "cell_type": "code",
   "execution_count": 2,
   "id": "cedfd4f1",
   "metadata": {},
   "outputs": [
    {
     "name": "stdout",
     "output_type": "stream",
     "text": [
      "[INFO] Writing all files to output\\run_49/\n"
     ]
    }
   ],
   "source": [
    "# Set up output folder creation and logging\n",
    "output_dir = utils.create_output_directory()\n",
    "utils.setup_logging(output_dir)"
   ]
  },
  {
   "cell_type": "markdown",
   "id": "2a0c015d",
   "metadata": {},
   "source": [
    "# Testing"
   ]
  },
  {
   "cell_type": "code",
   "execution_count": null,
   "id": "b607cabb",
   "metadata": {},
   "outputs": [
    {
     "name": "stdout",
     "output_type": "stream",
     "text": [
      "vx, vy, vz = (np.float64(-0.8061725203413048), np.float64(0.526706914171604), np.float64(-0.9562292613498478))\n"
     ]
    },
    {
     "name": "stderr",
     "output_type": "stream",
     "text": [
      "100%|██████████| 200000/200000 [00:18<00:00, 10862.72it/s]\n"
     ]
    }
   ],
   "source": [
    "# Simulation2(output_dir, True, \"Try01_\", 100, settings.random_seed, settings)"
   ]
  },
  {
   "cell_type": "markdown",
   "id": "61669811",
   "metadata": {},
   "source": [
    "## Task 3 & 4"
   ]
  },
  {
   "cell_type": "code",
   "execution_count": 3,
   "id": "2f27d91c",
   "metadata": {},
   "outputs": [],
   "source": [
    "Cs_list = [10, 100, 333, 666, 1000] # Salt conentraction which will be multiplied by sigma=1\n",
    "settings3.init(Cs_list[0])"
   ]
  },
  {
   "cell_type": "code",
   "execution_count": 5,
   "id": "0bb8269c",
   "metadata": {},
   "outputs": [
    {
     "name": "stderr",
     "output_type": "stream",
     "text": [
      "  0%|          | 0/8000 [00:01<?, ?it/s]\n"
     ]
    },
    {
     "ename": "TypeError",
     "evalue": "calcg() missing 2 required positional arguments: 'rho' and 'N'",
     "output_type": "error",
     "traceback": [
      "\u001b[31m---------------------------------------------------------------------------\u001b[39m",
      "\u001b[31mTypeError\u001b[39m                                 Traceback (most recent call last)",
      "\u001b[36mCell\u001b[39m\u001b[36m \u001b[39m\u001b[32mIn[5]\u001b[39m\u001b[32m, line 1\u001b[39m\n\u001b[32m----> \u001b[39m\u001b[32m1\u001b[39m g_of_r = \u001b[43mSimulation3\u001b[49m\u001b[43m(\u001b[49m\u001b[43moutput_dir\u001b[49m\u001b[43m,\u001b[49m\u001b[43m \u001b[49m\u001b[38;5;28;43;01mTrue\u001b[39;49;00m\u001b[43m,\u001b[49m\u001b[43m \u001b[49m\u001b[33;43m\"\u001b[39;49m\u001b[33;43mTask3_\u001b[39;49m\u001b[33;43m\"\u001b[39;49m\u001b[43m,\u001b[49m\u001b[43m \u001b[49m\u001b[32;43m10\u001b[39;49m\u001b[43m,\u001b[49m\u001b[43m \u001b[49m\u001b[43msettings3\u001b[49m\u001b[43m.\u001b[49m\u001b[43mrandom_seed\u001b[49m\u001b[43m,\u001b[49m\u001b[43m \u001b[49m\u001b[43msettings3\u001b[49m\u001b[43m)\u001b[49m\n",
      "\u001b[36mFile \u001b[39m\u001b[32mc:\\Users\\jonas\\OneDrive\\Uni Freiburg\\2_Sem_MSc\\Computational_Physics\\project_04\\FinalProject_CompPhys\\utilities\\simulation.py:127\u001b[39m, in \u001b[36mSimulation3\u001b[39m\u001b[34m(outdir, write, Traj_name, everyN, random_seed, settings)\u001b[39m\n\u001b[32m    124\u001b[39m         hist = update.update_hist(hist, x,y,z, settings3.dr, settings3.N, settings3.L)\n\u001b[32m    125\u001b[39m         Ngr += \u001b[32m1\u001b[39m \u001b[38;5;66;03m# another position\u001b[39;00m\n\u001b[32m--> \u001b[39m\u001b[32m127\u001b[39m     g = \u001b[43mupdate\u001b[49m\u001b[43m.\u001b[49m\u001b[43mcalcg\u001b[49m\u001b[43m(\u001b[49m\u001b[43mNgr\u001b[49m\u001b[43m,\u001b[49m\u001b[43mhist\u001b[49m\u001b[43m,\u001b[49m\u001b[43m \u001b[49m\u001b[43msettings3\u001b[49m\u001b[43m.\u001b[49m\u001b[43mdr\u001b[49m\u001b[43m)\u001b[49m\n\u001b[32m    130\u001b[39m \u001b[38;5;28;01mreturn\u001b[39;00m g\n",
      "\u001b[31mTypeError\u001b[39m: calcg() missing 2 required positional arguments: 'rho' and 'N'"
     ]
    }
   ],
   "source": [
    "g_of_r = Simulation3(output_dir, True, \"Task3_\", 10, settings3.random_seed, settings3)"
   ]
  },
  {
   "cell_type": "code",
   "execution_count": null,
   "id": "e0838927",
   "metadata": {},
   "outputs": [],
   "source": []
  }
 ],
 "metadata": {
  "kernelspec": {
   "display_name": "base",
   "language": "python",
   "name": "python3"
  },
  "language_info": {
   "codemirror_mode": {
    "name": "ipython",
    "version": 3
   },
   "file_extension": ".py",
   "mimetype": "text/x-python",
   "name": "python",
   "nbconvert_exporter": "python",
   "pygments_lexer": "ipython3",
   "version": "3.12.4"
  }
 },
 "nbformat": 4,
 "nbformat_minor": 5
}
