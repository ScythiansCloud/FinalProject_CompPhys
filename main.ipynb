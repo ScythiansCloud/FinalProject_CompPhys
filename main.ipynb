{
 "cells": [
  {
   "cell_type": "code",
   "execution_count": 5,
   "id": "310936a0",
   "metadata": {},
   "outputs": [
    {
     "name": "stdout",
     "output_type": "stream",
     "text": [
      "numba already installed\n",
      "numpy already installed\n",
      "matplotlib already installed\n",
      "tqdm already installed\n"
     ]
    }
   ],
   "source": [
    "# ── 0_install_deps.ipynb ──\n",
    "import importlib, subprocess, sys\n",
    "# List your packages (matplotlib covers matplotlib.pyplot)\n",
    "dependencies = [\"numba\", \"numpy\", \"matplotlib\", \"tqdm\"]\n",
    "\n",
    "for pkg in dependencies:\n",
    "    if importlib.util.find_spec(pkg) is None:\n",
    "        print(f\"Installing {pkg}…\")\n",
    "        subprocess.check_call([sys.executable, \"-m\", \"pip\", \"install\", pkg])\n",
    "    else:\n",
    "        # optional: uncomment next line to see which ones were already present\n",
    "        print(f\"{pkg} already installed\")\n",
    "        pass"
   ]
  },
  {
   "cell_type": "code",
   "execution_count": 6,
   "id": "3033e04c",
   "metadata": {},
   "outputs": [],
   "source": [
    "import numpy as np\n",
    "import os\n",
    "import utilities.update\n",
    "from utilities.simulation import Simulation, Simulation2\n",
    "import settings.settings_task2 as settings\n",
    "# import pandas as pd\n",
    "import matplotlib.pyplot as plt\n",
    "import logging\n",
    "from utilities import utils"
   ]
  },
  {
   "cell_type": "markdown",
   "id": "b14612f8",
   "metadata": {},
   "source": [
    "# Initializing the system"
   ]
  },
  {
   "cell_type": "code",
   "execution_count": 7,
   "id": "cedfd4f1",
   "metadata": {},
   "outputs": [
    {
     "name": "stdout",
     "output_type": "stream",
     "text": [
      "[INFO] Writing all files to output\\run_9/\n"
     ]
    }
   ],
   "source": [
    "# Set up output folder creation and logging\n",
    "output_dir = utils.create_output_directory()\n",
    "utils.setup_logging(output_dir)"
   ]
  },
  {
   "cell_type": "markdown",
   "id": "2a0c015d",
   "metadata": {},
   "source": [
    "# Testing"
   ]
  },
  {
   "cell_type": "code",
   "execution_count": 8,
   "id": "b607cabb",
   "metadata": {},
   "outputs": [
    {
     "name": "stdout",
     "output_type": "stream",
     "text": [
      "vx, vy, vz = (-0.15327284408860495, 0.9910767350468304, -0.5427044365251035)\n"
     ]
    },
    {
     "name": "stderr",
     "output_type": "stream",
     "text": [
      "100%|██████████| 80000/80000 [00:04<00:00, 17734.42it/s]\n"
     ]
    }
   ],
   "source": [
    "settings.init(0.05)\n",
    "Simulation2(output_dir, True, \"Try01\", everyN=10)"
   ]
  }
 ],
 "metadata": {
  "kernelspec": {
   "display_name": "base",
   "language": "python",
   "name": "python3"
  },
  "language_info": {
   "codemirror_mode": {
    "name": "ipython",
    "version": 3
   },
   "file_extension": ".py",
   "mimetype": "text/x-python",
   "name": "python",
   "nbconvert_exporter": "python",
   "pygments_lexer": "ipython3",
   "version": "3.12.4"
  }
 },
 "nbformat": 4,
 "nbformat_minor": 5
}
