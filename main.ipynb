{
 "cells": [
  {
   "cell_type": "code",
   "execution_count": 1,
   "id": "310936a0",
   "metadata": {},
   "outputs": [
    {
     "name": "stdout",
     "output_type": "stream",
     "text": [
      "numba already installed\n",
      "numpy already installed\n",
      "matplotlib already installed\n",
      "tqdm already installed\n"
     ]
    }
   ],
   "source": [
    "# ── 0_install_deps.ipynb ──\n",
    "import importlib, subprocess, sys\n",
    "# List your packages (matplotlib covers matplotlib.pyplot)\n",
    "dependencies = [\"numba\", \"numpy\", \"matplotlib\", \"tqdm\"]\n",
    "\n",
    "for pkg in dependencies:\n",
    "    if importlib.util.find_spec(pkg) is None:\n",
    "        print(f\"Installing {pkg}…\")\n",
    "        subprocess.check_call([sys.executable, \"-m\", \"pip\", \"install\", pkg])\n",
    "    else:\n",
    "        # optional: uncomment next line to see which ones were already present\n",
    "        print(f\"{pkg} already installed\")\n",
    "        pass"
   ]
  },
  {
   "cell_type": "code",
   "execution_count": 1,
   "id": "3033e04c",
   "metadata": {},
   "outputs": [],
   "source": [
    "import numpy as np\n",
    "import os\n",
    "import update\n",
    "from simulation import Simulation\n",
    "import settings_task2 as settings\n",
    "# import pandas as pd\n",
    "import matplotlib.pyplot as plt"
   ]
  },
  {
   "cell_type": "markdown",
   "id": "2a0c015d",
   "metadata": {},
   "source": [
    "# Testing"
   ]
  },
  {
   "cell_type": "code",
   "execution_count": null,
   "id": "b607cabb",
   "metadata": {},
   "outputs": [
    {
     "name": "stdout",
     "output_type": "stream",
     "text": [
      "vx, vy, vz = (np.float64(1.3535781752996126), np.float64(-1.387418340555773), np.float64(-0.5564053043910968))\n"
     ]
    },
    {
     "name": "stderr",
     "output_type": "stream",
     "text": [
      "100%|██████████| 200000/200000 [00:09<00:00, 20793.60it/s]\n"
     ]
    }
   ],
   "source": [
    "settings.init(0.05)\n",
    "Simulation(True, \"Test_trajectory\", everyN=10)"
   ]
  },
  {
   "cell_type": "code",
   "execution_count": null,
   "id": "ed998f78",
   "metadata": {},
   "outputs": [],
   "source": []
  },
  {
   "cell_type": "code",
   "execution_count": null,
   "id": "d1449b78",
   "metadata": {},
   "outputs": [],
   "source": []
  }
 ],
 "metadata": {
  "kernelspec": {
   "display_name": "Python 3",
   "language": "python",
   "name": "python3"
  },
  "language_info": {
   "codemirror_mode": {
    "name": "ipython",
    "version": 3
   },
   "file_extension": ".py",
   "mimetype": "text/x-python",
   "name": "python",
   "nbconvert_exporter": "python",
   "pygments_lexer": "ipython3",
   "version": "3.13.5"
  }
 },
 "nbformat": 4,
 "nbformat_minor": 5
}
