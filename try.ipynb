{
 "cells": [
  {
   "cell_type": "code",
   "execution_count": 1,
   "id": "78c8a3eb",
   "metadata": {},
   "outputs": [],
   "source": [
    "from utilities.simulation import Simulation3\n",
    "import numpy as np\n",
    "from utilities import utils\n",
    "import settings.settings_task3_10 as settings10\n",
    "import settings.settings_task3 as settings"
   ]
  },
  {
   "cell_type": "code",
   "execution_count": null,
   "id": "625d7f07",
   "metadata": {},
   "outputs": [],
   "source": []
  },
  {
   "cell_type": "code",
   "execution_count": 2,
   "id": "356ffee4",
   "metadata": {},
   "outputs": [
    {
     "name": "stdout",
     "output_type": "stream",
     "text": [
      "[INFO] Writing all files to output\\run_7/\n"
     ]
    }
   ],
   "source": [
    "# Set up output folder creation and logging\n",
    "output_dir = utils.create_output_directory()\n",
    "utils.setup_logging(output_dir)\n"
   ]
  },
  {
   "cell_type": "code",
   "execution_count": null,
   "id": "6bf79b5a",
   "metadata": {},
   "outputs": [],
   "source": [
    "gr10 = Simulation3(output_dir, True, 'testCS_10', 50, 1213, settings10, 10)"
   ]
  },
  {
   "cell_type": "code",
   "execution_count": null,
   "id": "e65a04cb",
   "metadata": {},
   "outputs": [],
   "source": [
    "gr100 = Simulation3(output_dir, True, 'testCS_100', 10, 1213, settings, 100)\n",
    "gr333 = Simulation3(output_dir, True, 'testCS_333', 10, 1213, settings, 333)\n",
    "gr666 = Simulation3(output_dir, True, 'testCS_666', 10, 1213, settings, 666)\n",
    "gr1000 = Simulation3(output_dir, True, 'testCS_1000', 10, 1213, settings, 1000)"
   ]
  },
  {
   "cell_type": "code",
   "execution_count": null,
   "id": "eaf5f89e",
   "metadata": {},
   "outputs": [],
   "source": [
    "def main():\n",
    "    from utilities.simulation import Simulation3\n",
    "    import numpy as np\n",
    "    from utilities import utils\n",
    "    import settings.settings_task3_10 as settings10\n",
    "    import settings.settings_task3 as settings\n",
    "\n",
    "    # Set up output folder creation and logging\n",
    "    output_dir = utils.create_output_directory()\n",
    "    utils.setup_logging(output_dir)\n",
    "\n",
    "    gr10 = Simulation3(output_dir, True, 'task3CS_10', 25, 120, settings10, 10)\n",
    "    gr100 = Simulation3(output_dir, True, 'task3CS_100', 10, 1213, settings, 100)\n",
    "    gr333 = Simulation3(output_dir, True, 'task3CS_333', 10, 1213, settings, 333)\n",
    "    gr666 = Simulation3(output_dir, True, 'task3CS_666', 10, 1213, settings, 666)\n",
    "    gr1000 = Simulation3(output_dir, True, 'task3CS_1000', 10, 1213, settings, 1000)\n",
    "\n",
    "    grs = [gr10, gr100, gr333, gr666, gr1000]\n",
    "\n",
    "    g_r_save = open(output_dir / 'gr', \"w\")\n",
    "\n",
    "    for gi in grs:\n",
    "        for i in range(len(gi)):\n",
    "            g_r_save.write(str(gi[i])+ ' ')\n",
    "        g_r_save.write('\\n')\n",
    "        \n",
    "\n",
    "\n",
    "\n",
    "    "
   ]
  }
 ],
 "metadata": {
  "kernelspec": {
   "display_name": "base",
   "language": "python",
   "name": "python3"
  },
  "language_info": {
   "codemirror_mode": {
    "name": "ipython",
    "version": 3
   },
   "file_extension": ".py",
   "mimetype": "text/x-python",
   "name": "python",
   "nbconvert_exporter": "python",
   "pygments_lexer": "ipython3",
   "version": "3.12.4"
  }
 },
 "nbformat": 4,
 "nbformat_minor": 5
}
