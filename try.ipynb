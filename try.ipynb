{
 "cells": [
  {
   "cell_type": "code",
   "execution_count": 1,
   "id": "78c8a3eb",
   "metadata": {},
   "outputs": [],
   "source": [
    "from utilities.simulation import Simulation3\n",
    "import numpy as np\n",
    "from utilities import utils\n",
    "import settings.settings_task3 as settings"
   ]
  },
  {
   "cell_type": "code",
   "execution_count": 2,
   "id": "356ffee4",
   "metadata": {},
   "outputs": [
    {
     "name": "stdout",
     "output_type": "stream",
     "text": [
      "[INFO] Writing all files to output\\run_2/\n"
     ]
    }
   ],
   "source": [
    "# Set up output folder creation and logging\n",
    "output_dir = utils.create_output_directory()\n",
    "utils.setup_logging(output_dir)\n"
   ]
  },
  {
   "cell_type": "code",
   "execution_count": null,
   "id": "6bf79b5a",
   "metadata": {},
   "outputs": [],
   "source": [
    "gr = Simulation3(output_dir, True, 'testCS_10', 100, 120, settings, 10)"
   ]
  }
 ],
 "metadata": {
  "kernelspec": {
   "display_name": "base",
   "language": "python",
   "name": "python3"
  },
  "language_info": {
   "codemirror_mode": {
    "name": "ipython",
    "version": 3
   },
   "file_extension": ".py",
   "mimetype": "text/x-python",
   "name": "python",
   "nbconvert_exporter": "python",
   "pygments_lexer": "ipython3",
   "version": "3.12.4"
  }
 },
 "nbformat": 4,
 "nbformat_minor": 5
}
